{
 "cells": [
  {
   "cell_type": "markdown",
   "metadata": {},
   "source": [
    "# Let'sUpgrade Assignment_3(10-3-21)"
   ]
  },
  {
   "cell_type": "code",
   "execution_count": 55,
   "metadata": {},
   "outputs": [],
   "source": [
    "# To Delete The old movie  from the list"
   ]
  },
  {
   "cell_type": "markdown",
   "metadata": {},
   "source": [
    "Done by Sai Nandini"
   ]
  },
  {
   "cell_type": "code",
   "execution_count": 56,
   "metadata": {},
   "outputs": [
    {
     "name": "stdout",
     "output_type": "stream",
     "text": [
      "Check 26-Feb-2021 ->Ala Vaikunthapuramuloo 12-jan-2020 ->Aiiraa 28-Mar-2019 ->Rangasthalam 30th-Mar_2018 ->Guru 31st-Mar-2017 ->Oopiri 25-mar-2016 ->Mogudu 29th-March-2014 ->Pizza 15th-Feb-2013 ->Ishq 24th-feb-2012 ->Golconda High School 15th-jan-2011 ->Namo Venkatesha 14th-jan-2010 ->Ninu Veedanu Needani Nenu 20th-jan-2010 ->None\n"
     ]
    }
   ],
   "source": [
    "class MovieNode:\n",
    "\n",
    "    def __init__(self, movieName, relDate):\n",
    "        self.movieName = movieName\n",
    "        self.relDate = relDate\n",
    "        self.next = None\n",
    "        return\n",
    "class NetflixMovieList:\n",
    "    def __init__(self):\n",
    "        self.head = None\n",
    "    def addMovie(self, movieName, relDate):\n",
    "        new = MovieNode(movieName, relDate)\n",
    "        if self.head == None:\n",
    "            self.head = new\n",
    "            return\n",
    "        new.next = self.head\n",
    "        self.head = new\n",
    "        return\n",
    "    def displayMovies(self):\n",
    "        if self.head == None:\n",
    "            print(\"No movies to show right now\")\n",
    "            return\n",
    "        temp = self.head\n",
    "        while(temp != None):\n",
    "            print(temp.movieName, temp.relDate, '->', end = \"\")\n",
    "            temp = temp.next\n",
    "        print('None')\n",
    "        return\n",
    "\n",
    "movie = NetflixMovieList()\n",
    "movie.addMovie('Ninu Veedanu Needani Nenu','20th-jan-2010')\n",
    "movie.addMovie('Namo Venkatesha', '14th-jan-2010')\n",
    "movie.addMovie(\"Golconda High School\",\"15th-jan-2011\")\n",
    "movie.addMovie(\"Ishq\",\"24th-feb-2012\")\n",
    "movie.addMovie(\"Pizza\",\"15th-Feb-2013\")\n",
    "movie.addMovie(\"Mogudu\",\"29th-March-2014\")\n",
    "movie.addMovie(\"Oopiri\",\"25-mar-2016\")\n",
    "movie.addMovie(\"Guru\",\"31st-Mar-2017\")\n",
    "movie.addMovie(\"Rangasthalam\",\"30th-Mar_2018\")\n",
    "movie.addMovie(\"Aiiraa\",\"28-Mar-2019\")\n",
    "movie.addMovie(\"Ala Vaikunthapuramuloo\",\"12-jan-2020\")\n",
    "movie.addMovie(\"Check\",\"26-Feb-2021\")\n",
    "movie.displayMovies()\n"
   ]
  },
  {
   "cell_type": "code",
   "execution_count": 57,
   "metadata": {},
   "outputs": [
    {
     "name": "stdout",
     "output_type": "stream",
     "text": [
      "No movies to show right now\n"
     ]
    }
   ],
   "source": [
    "movie = NetflixMovieList()\n",
    "\n",
    "movie.displayMovies()\n"
   ]
  },
  {
   "cell_type": "code",
   "execution_count": 58,
   "metadata": {},
   "outputs": [],
   "source": [
    "New_Moive_List=[['Ninu Veedanu Needani Nenu','20th-jan-2010'],['Namo Venkatesha', '14th-jan-2010'],[\"Golconda High School\",\"15th-jan-2011\"],[\"Ishq\",\"24th-feb-2012\"],[\"Pizza\",\"15th-Feb-2013\"],[\"Mogudu\",\"29th-March-2014\"],[\"Oopiri\",\"25-mar-2016\"],[\"Guru\",\"31st-Mar-2017\"],[\"Rangasthalam\",\"30th-Mar_2018\"],[\"Aiiraa\",\"28-Mar-2019\"],[\"Ala Vaikunthapuramuloo\",\"12-jan-2020\"],[\"Check\",\"26-Feb-2021\"]]"
   ]
  },
  {
   "cell_type": "code",
   "execution_count": 59,
   "metadata": {},
   "outputs": [
    {
     "data": {
      "text/plain": [
       "[['Ninu Veedanu Needani Nenu', '20th-jan-2010'],\n",
       " ['Namo Venkatesha', '14th-jan-2010'],\n",
       " ['Golconda High School', '15th-jan-2011'],\n",
       " ['Ishq', '24th-feb-2012'],\n",
       " ['Pizza', '15th-Feb-2013'],\n",
       " ['Mogudu', '29th-March-2014'],\n",
       " ['Oopiri', '25-mar-2016'],\n",
       " ['Guru', '31st-Mar-2017'],\n",
       " ['Rangasthalam', '30th-Mar_2018'],\n",
       " ['Aiiraa', '28-Mar-2019'],\n",
       " ['Ala Vaikunthapuramuloo', '12-jan-2020'],\n",
       " ['Check', '26-Feb-2021']]"
      ]
     },
     "execution_count": 59,
     "metadata": {},
     "output_type": "execute_result"
    }
   ],
   "source": [
    "New_Moive_List"
   ]
  },
  {
   "cell_type": "code",
   "execution_count": 60,
   "metadata": {},
   "outputs": [
    {
     "data": {
      "text/plain": [
       "['Ninu Veedanu Needani Nenu', '20th-jan-2010']"
      ]
     },
     "execution_count": 60,
     "metadata": {},
     "output_type": "execute_result"
    }
   ],
   "source": [
    "New_Moive_List.pop(0)# to deletiong the last row of moive data"
   ]
  },
  {
   "cell_type": "code",
   "execution_count": 61,
   "metadata": {},
   "outputs": [
    {
     "data": {
      "text/plain": [
       "[['Namo Venkatesha', '14th-jan-2010'],\n",
       " ['Golconda High School', '15th-jan-2011'],\n",
       " ['Ishq', '24th-feb-2012'],\n",
       " ['Pizza', '15th-Feb-2013'],\n",
       " ['Mogudu', '29th-March-2014'],\n",
       " ['Oopiri', '25-mar-2016'],\n",
       " ['Guru', '31st-Mar-2017'],\n",
       " ['Rangasthalam', '30th-Mar_2018'],\n",
       " ['Aiiraa', '28-Mar-2019'],\n",
       " ['Ala Vaikunthapuramuloo', '12-jan-2020'],\n",
       " ['Check', '26-Feb-2021']]"
      ]
     },
     "execution_count": 61,
     "metadata": {},
     "output_type": "execute_result"
    }
   ],
   "source": [
    "New_Moive_List"
   ]
  },
  {
   "cell_type": "code",
   "execution_count": null,
   "metadata": {},
   "outputs": [],
   "source": []
  },
  {
   "cell_type": "code",
   "execution_count": null,
   "metadata": {},
   "outputs": [],
   "source": []
  }
 ],
 "metadata": {
  "kernelspec": {
   "display_name": "Python 3",
   "language": "python",
   "name": "python3"
  },
  "language_info": {
   "codemirror_mode": {
    "name": "ipython",
    "version": 3
   },
   "file_extension": ".py",
   "mimetype": "text/x-python",
   "name": "python",
   "nbconvert_exporter": "python",
   "pygments_lexer": "ipython3",
   "version": "3.8.5"
  }
 },
 "nbformat": 4,
 "nbformat_minor": 4
}
